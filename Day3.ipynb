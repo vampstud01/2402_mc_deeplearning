{
 "cells": [
  {
   "cell_type": "code",
   "execution_count": 1,
   "id": "a9d44e0e-1e60-45ef-a6f3-0b9dad55d49d",
   "metadata": {},
   "outputs": [],
   "source": [
    "import numpy as np # 텐서 연산\n",
    "import pandas as pd # 표 형식\n",
    "import matplotlib.pyplot as plt # 그래프"
   ]
  },
  {
   "cell_type": "code",
   "execution_count": 2,
   "id": "db59e496-26d3-4897-b3fc-49cee32d1cdb",
   "metadata": {
    "jupyter": {
     "source_hidden": true
    }
   },
   "outputs": [],
   "source": [
    "class 완전연결:\n",
    "    def __init__(self, 입력수, 출력수, 활성화=None):\n",
    "        self.W = np.random.randn(입력수, 출력수)\n",
    "        self.b = np.random.randn(출력수)\n",
    "        self.activation = 활성화\n",
    "\n",
    "    def __call__(self, Xs):\n",
    "        zs = np.dot(Xs, self.W) + self.b\n",
    "        if self.activation:\n",
    "            return self.activation(zs)\n",
    "        return zs # 항등 함수\n",
    "\n",
    "class 신경망:\n",
    "    def __init__(self):\n",
    "        self.layers = []\n",
    "\n",
    "    def add(self, 계층):\n",
    "        self.layers.append(계층)\n",
    "\n",
    "    def __call__(self, Xs):\n",
    "        \"\"\"순전파 (feed forward)\"\"\"\n",
    "        출력 = Xs\n",
    "        for 계층 in self.layers:\n",
    "            출력 = 계층(출력)\n",
    "        return 출력\n",
    "\n",
    "FC = Dense = Affine = Linear = 완전연결"
   ]
  },
  {
   "cell_type": "code",
   "execution_count": 3,
   "id": "e0ab7746-cd24-406a-b093-59c6b81184ec",
   "metadata": {},
   "outputs": [],
   "source": [
    "import pickle"
   ]
  },
  {
   "cell_type": "code",
   "execution_count": 4,
   "id": "fc1e3e8b-9b50-4e2c-9456-202c85a3eb8a",
   "metadata": {},
   "outputs": [],
   "source": [
    "with open('data/mnist/mnist_ndarray.pkl', 'rb') as 파일:\n",
    "    mnist_data = pickle.load(파일)"
   ]
  },
  {
   "cell_type": "code",
   "execution_count": 5,
   "id": "39cde6d8-f98a-4d72-aa64-d35a390b777d",
   "metadata": {},
   "outputs": [
    {
     "name": "stdout",
     "output_type": "stream",
     "text": [
      "(60000, 28, 28) (10000, 28, 28)\n"
     ]
    }
   ],
   "source": [
    "(train_images, train_labels), (test_images, test_labels) = mnist_data\n",
    "print(train_images.shape, test_images.shape)\n",
    "assert train_images.shape[1:] == test_images.shape[1:]\n",
    "assert len(train_images) == len(train_labels)\n",
    "assert len(test_images) == len(test_labels)"
   ]
  },
  {
   "cell_type": "code",
   "execution_count": 6,
   "id": "e554204b-2302-4dc5-8fad-31dfa4be0e12",
   "metadata": {},
   "outputs": [
    {
     "data": {
      "text/plain": [
       "array([0, 1, 2, 3, 4, 5, 6, 7, 8, 9], dtype=uint8)"
      ]
     },
     "execution_count": 6,
     "metadata": {},
     "output_type": "execute_result"
    }
   ],
   "source": [
    "np.unique(train_labels)"
   ]
  },
  {
   "cell_type": "code",
   "execution_count": 7,
   "id": "58459f73-ce5d-46d2-9fd6-b886eb65131f",
   "metadata": {},
   "outputs": [
    {
     "data": {
      "text/plain": [
       "(0, 255)"
      ]
     },
     "execution_count": 7,
     "metadata": {},
     "output_type": "execute_result"
    }
   ],
   "source": [
    "train_images[0].min(), train_images[0].max()"
   ]
  },
  {
   "cell_type": "code",
   "execution_count": 8,
   "id": "5ce0b53c-a4a6-427b-aff5-b2e040b2c406",
   "metadata": {},
   "outputs": [
    {
     "name": "stderr",
     "output_type": "stream",
     "text": [
      "/var/folders/3s/7kln7z4j1xd1stflxp01pnnw0000gn/T/ipykernel_61732/1233423015.py:1: RuntimeWarning: overflow encountered in exp\n",
      "  np.exp(1000.0)\n"
     ]
    },
    {
     "data": {
      "text/plain": [
       "inf"
      ]
     },
     "execution_count": 8,
     "metadata": {},
     "output_type": "execute_result"
    }
   ],
   "source": [
    "np.exp(1000.0)"
   ]
  },
  {
   "cell_type": "code",
   "execution_count": 9,
   "id": "64416c99-7212-47d8-b869-6a7fbc69212c",
   "metadata": {},
   "outputs": [
    {
     "name": "stdout",
     "output_type": "stream",
     "text": [
      "uint8 -> float32\n",
      "(60000, 28, 28) -> (60000, 784)\n",
      "255 -> 1.0\n"
     ]
    }
   ],
   "source": [
    "def 전처리(images):\n",
    "    Xs = images.astype('float32')\n",
    "    Xs = Xs.reshape(-1, 28 * 28)\n",
    "    Xs /= 255\n",
    "    return Xs\n",
    "\n",
    "X_train = 전처리(train_images)\n",
    "print(train_images.dtype, '->', X_train.dtype)\n",
    "print(train_images.shape, '->', X_train.shape)\n",
    "print(train_images.max(), '->', X_train.max())"
   ]
  },
  {
   "cell_type": "code",
   "execution_count": 10,
   "id": "00691320-e125-4bb7-8180-1c7d07769c32",
   "metadata": {},
   "outputs": [],
   "source": [
    "sigmoid = lambda z: 1 / (1 + np.exp(-z))\n",
    "\n",
    "model = 신경망()\n",
    "model.add(FC(784, 50, sigmoid))\n",
    "model.add(FC(50, 100, sigmoid))\n",
    "model.add(FC(100, 10))"
   ]
  },
  {
   "cell_type": "code",
   "execution_count": 11,
   "id": "49c32a49-6a21-4e30-b0be-2c67a7000471",
   "metadata": {},
   "outputs": [
    {
     "name": "stdout",
     "output_type": "stream",
     "text": [
      "X=(10000, 784) -> model -> y=(10000, 10)\n"
     ]
    }
   ],
   "source": [
    "X_test = 전처리(test_images)\n",
    "outputs = model(X_test)\n",
    "print(f'X={X_test.shape} -> model -> y={outputs.shape}')"
   ]
  },
  {
   "cell_type": "code",
   "execution_count": 12,
   "id": "487ebb41-0d33-478c-9eb8-8bf0e9634c77",
   "metadata": {},
   "outputs": [
    {
     "data": {
      "text/plain": [
       "array([0.7, 0.2, 0.1])"
      ]
     },
     "execution_count": 12,
     "metadata": {},
     "output_type": "execute_result"
    }
   ],
   "source": [
    "np.array([0.7, 0.2, 0.1])"
   ]
  },
  {
   "cell_type": "code",
   "execution_count": null,
   "id": "ad7de461-01de-4efb-84ad-80b9269ce676",
   "metadata": {},
   "outputs": [],
   "source": []
  }
 ],
 "metadata": {
  "kernelspec": {
   "display_name": "pydeep",
   "language": "python",
   "name": "pydeep"
  },
  "language_info": {
   "codemirror_mode": {
    "name": "ipython",
    "version": 3
   },
   "file_extension": ".py",
   "mimetype": "text/x-python",
   "name": "python",
   "nbconvert_exporter": "python",
   "pygments_lexer": "ipython3",
   "version": "3.9.18"
  }
 },
 "nbformat": 4,
 "nbformat_minor": 5
}
