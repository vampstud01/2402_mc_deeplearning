{
 "cells": [
  {
   "cell_type": "code",
   "execution_count": 1,
   "id": "1d713f15-ba0d-4238-b311-533bebe32f9c",
   "metadata": {},
   "outputs": [
    {
     "name": "stdout",
     "output_type": "stream",
     "text": [
      "셀 실행 shift + Enter\n"
     ]
    }
   ],
   "source": [
    "print('셀 실행 shift + Enter')"
   ]
  },
  {
   "cell_type": "code",
   "execution_count": 2,
   "id": "df5751a0-b18c-4d4a-8034-37f45b4557e1",
   "metadata": {},
   "outputs": [
    {
     "name": "stdout",
     "output_type": "stream",
     "text": [
      "Python 3.9.18 | packaged by conda-forge | (main, Aug 30 2023, 03:53:08) \n",
      "[Clang 15.0.7 ]\n"
     ]
    }
   ],
   "source": [
    "import sys\n",
    "print(f'Python {sys.version}')"
   ]
  },
  {
   "cell_type": "markdown",
   "id": "54119705-ff91-47b1-b5ed-d140459f900d",
   "metadata": {},
   "source": [
    "# 필수 라이브러리"
   ]
  },
  {
   "cell_type": "code",
   "execution_count": 3,
   "id": "6f93f688-56c4-4455-86f8-98907233c4c7",
   "metadata": {},
   "outputs": [
    {
     "name": "stdout",
     "output_type": "stream",
     "text": [
      "Tensorflow 2.15.0\n"
     ]
    }
   ],
   "source": [
    "import numpy as np\n",
    "import tensorflow as tf\n",
    "print(f'Tensorflow {tf.__version__}')"
   ]
  },
  {
   "cell_type": "code",
   "execution_count": 4,
   "id": "03c13683-8305-4a2d-9dae-fd724f50ad5c",
   "metadata": {},
   "outputs": [],
   "source": [
    "x = list(range(10))"
   ]
  },
  {
   "cell_type": "code",
   "execution_count": 5,
   "id": "688f5c0a-ccff-49d5-9ab6-596ebc931f9c",
   "metadata": {},
   "outputs": [
    {
     "data": {
      "text/plain": [
       "list"
      ]
     },
     "execution_count": 5,
     "metadata": {},
     "output_type": "execute_result"
    }
   ],
   "source": [
    "type(x)"
   ]
  },
  {
   "cell_type": "code",
   "execution_count": 6,
   "id": "ff2aa99b-18b8-4418-b572-c3aaf161a04c",
   "metadata": {},
   "outputs": [
    {
     "name": "stdout",
     "output_type": "stream",
     "text": [
      "[0, 1, 2, 3, 4, 5, 6, 7, 8, 9]\n"
     ]
    }
   ],
   "source": [
    "print(x)"
   ]
  },
  {
   "cell_type": "code",
   "execution_count": 7,
   "id": "01920c83-f92b-4c2e-b03a-986c8e36d7fb",
   "metadata": {},
   "outputs": [
    {
     "data": {
      "text/plain": [
       "10"
      ]
     },
     "execution_count": 7,
     "metadata": {},
     "output_type": "execute_result"
    }
   ],
   "source": [
    "len(x)"
   ]
  },
  {
   "cell_type": "code",
   "execution_count": 8,
   "id": "770c4169-43b0-4356-bed4-01e45310bbc4",
   "metadata": {},
   "outputs": [
    {
     "data": {
      "text/plain": [
       "[0, 1, 2, 3, 4, 5, 6, 7, 8, 9, 0, 1, 2, 3, 4, 5, 6, 7, 8, 9]"
      ]
     },
     "execution_count": 8,
     "metadata": {},
     "output_type": "execute_result"
    }
   ],
   "source": [
    "x * 2"
   ]
  },
  {
   "cell_type": "code",
   "execution_count": 9,
   "id": "2d7e5f48-414d-4c0f-878b-7dddf77751f8",
   "metadata": {},
   "outputs": [
    {
     "data": {
      "text/plain": [
       "[0, 1, 2, 3, 4, 5, 6, 7, 8, 9, 0, 1, 2, 3, 4, 5, 6, 7, 8, 9]"
      ]
     },
     "execution_count": 9,
     "metadata": {},
     "output_type": "execute_result"
    }
   ],
   "source": [
    "x + x"
   ]
  },
  {
   "cell_type": "code",
   "execution_count": 10,
   "id": "03a15011-e405-4f74-a3ee-5fcf020c5bbd",
   "metadata": {},
   "outputs": [
    {
     "data": {
      "text/plain": [
       "[0, 2, 4, 6, 8, 10, 12, 14, 16, 18]"
      ]
     },
     "execution_count": 10,
     "metadata": {},
     "output_type": "execute_result"
    }
   ],
   "source": [
    "[원소 * 2 for 원소 in x]"
   ]
  },
  {
   "cell_type": "code",
   "execution_count": 11,
   "id": "e58751a7-67ac-4783-b285-9e5293fad4bc",
   "metadata": {},
   "outputs": [],
   "source": [
    "x = np.array(range(10))"
   ]
  },
  {
   "cell_type": "code",
   "execution_count": 12,
   "id": "50951d14-3cb8-4d22-8865-3294b1251013",
   "metadata": {},
   "outputs": [
    {
     "data": {
      "text/plain": [
       "numpy.ndarray"
      ]
     },
     "execution_count": 12,
     "metadata": {},
     "output_type": "execute_result"
    }
   ],
   "source": [
    "type(x)"
   ]
  },
  {
   "cell_type": "code",
   "execution_count": 13,
   "id": "cdc3d98c-7442-4526-9b6d-4fb62b548681",
   "metadata": {},
   "outputs": [
    {
     "name": "stdout",
     "output_type": "stream",
     "text": [
      "[0 1 2 3 4 5 6 7 8 9]\n"
     ]
    }
   ],
   "source": [
    "print(x)"
   ]
  },
  {
   "cell_type": "code",
   "execution_count": 14,
   "id": "c6abb626-2434-49c6-9cae-34078cefbd81",
   "metadata": {},
   "outputs": [
    {
     "data": {
      "text/plain": [
       "10"
      ]
     },
     "execution_count": 14,
     "metadata": {},
     "output_type": "execute_result"
    }
   ],
   "source": [
    "len(x)"
   ]
  },
  {
   "cell_type": "code",
   "execution_count": 15,
   "id": "1dc1942f-73c6-4705-b277-86ac48274e61",
   "metadata": {},
   "outputs": [
    {
     "data": {
      "text/plain": [
       "array([ 0,  2,  4,  6,  8, 10, 12, 14, 16, 18])"
      ]
     },
     "execution_count": 15,
     "metadata": {},
     "output_type": "execute_result"
    }
   ],
   "source": [
    "x * 2"
   ]
  },
  {
   "cell_type": "code",
   "execution_count": 16,
   "id": "4720e0eb-610d-42a1-ac64-96cd328acc0e",
   "metadata": {},
   "outputs": [
    {
     "data": {
      "text/plain": [
       "array([0, 0, 0, 0, 0, 0, 0, 0, 0, 0])"
      ]
     },
     "execution_count": 16,
     "metadata": {},
     "output_type": "execute_result"
    }
   ],
   "source": [
    "x - x"
   ]
  },
  {
   "cell_type": "code",
   "execution_count": 17,
   "id": "9158c768-aa4f-4721-838a-bc3a2fe5018c",
   "metadata": {},
   "outputs": [],
   "source": [
    "x2 = np.array([[0, 1, 2], [3, 4, 5]])"
   ]
  },
  {
   "cell_type": "code",
   "execution_count": 18,
   "id": "f690062a-db81-483f-8eed-43762f7f7cda",
   "metadata": {},
   "outputs": [
    {
     "name": "stdout",
     "output_type": "stream",
     "text": [
      "[[0 1 2]\n",
      " [3 4 5]]\n"
     ]
    }
   ],
   "source": [
    "print(x2)"
   ]
  },
  {
   "cell_type": "code",
   "execution_count": 19,
   "id": "048fda13-96ea-48bb-89ff-a02d9cdb8d59",
   "metadata": {},
   "outputs": [
    {
     "data": {
      "text/plain": [
       "array([[ 0,  2,  4],\n",
       "       [ 6,  8, 10]])"
      ]
     },
     "execution_count": 19,
     "metadata": {},
     "output_type": "execute_result"
    }
   ],
   "source": [
    "x2 * 2"
   ]
  },
  {
   "cell_type": "code",
   "execution_count": 20,
   "id": "077fb685-cc2a-4620-8803-441a2cb9f8be",
   "metadata": {},
   "outputs": [
    {
     "data": {
      "text/plain": [
       "array([[0, 0, 0],\n",
       "       [0, 0, 0]])"
      ]
     },
     "execution_count": 20,
     "metadata": {},
     "output_type": "execute_result"
    }
   ],
   "source": [
    "x2 - x2"
   ]
  },
  {
   "cell_type": "code",
   "execution_count": 21,
   "id": "9677a831-c3c7-4ca8-b220-ff309a525bc7",
   "metadata": {},
   "outputs": [
    {
     "data": {
      "text/plain": [
       "2"
      ]
     },
     "execution_count": 21,
     "metadata": {},
     "output_type": "execute_result"
    }
   ],
   "source": [
    "len(x2)"
   ]
  },
  {
   "cell_type": "code",
   "execution_count": 22,
   "id": "1725a8a3-98a6-4003-9234-1fec031eef08",
   "metadata": {},
   "outputs": [
    {
     "data": {
      "text/plain": [
       "(2, 3)"
      ]
     },
     "execution_count": 22,
     "metadata": {},
     "output_type": "execute_result"
    }
   ],
   "source": [
    "x2.shape"
   ]
  },
  {
   "cell_type": "code",
   "execution_count": 23,
   "id": "3276c465-49b0-4691-a63d-0f2192003d2c",
   "metadata": {},
   "outputs": [
    {
     "data": {
      "text/plain": [
       "numpy.ndarray"
      ]
     },
     "execution_count": 23,
     "metadata": {},
     "output_type": "execute_result"
    }
   ],
   "source": [
    "type(x2)"
   ]
  },
  {
   "cell_type": "code",
   "execution_count": 24,
   "id": "213c8e91-125b-4514-a0d4-f245c61ce8a8",
   "metadata": {},
   "outputs": [
    {
     "data": {
      "text/plain": [
       "dtype('int64')"
      ]
     },
     "execution_count": 24,
     "metadata": {},
     "output_type": "execute_result"
    }
   ],
   "source": [
    "x2.dtype"
   ]
  },
  {
   "cell_type": "markdown",
   "id": "ec8a08e1-3882-4f58-b63f-4e823d21eab2",
   "metadata": {},
   "source": [
    "# 선형 회귀"
   ]
  },
  {
   "cell_type": "code",
   "execution_count": 25,
   "id": "d3c1b80a-0ec6-4a97-97bd-9c0d14786cf1",
   "metadata": {},
   "outputs": [],
   "source": [
    "import matplotlib.pyplot as plt"
   ]
  },
  {
   "cell_type": "code",
   "execution_count": 26,
   "id": "74db9d6c-6523-47a2-9f14-8f136838f438",
   "metadata": {},
   "outputs": [
    {
     "name": "stdout",
     "output_type": "stream",
     "text": [
      "(100,) (100,)\n",
      "[-5.        -4.8989899 -4.7979798] .. [4.7979798 4.8989899 5.       ]\n"
     ]
    },
    {
     "data": {
      "image/png": "[encoded data removed]",
      "text/plain": [
       "<Figure size 640x480 with 1 Axes>"
      ]
     },
     "metadata": {},
     "output_type": "display_data"
    }
   ],
   "source": [
    "from sklearn.linear_model import LinearRegression\n",
    "\n",
    "난수초기값 = 123\n",
    "random = np.random.RandomState(난수초기값)\n",
    "x = np.linspace(-5, 5, 100)\n",
    "noise = random.randn(len(x))\n",
    "y = x + noise\n",
    "\n",
    "Xs = x.reshape(-1, 1)\n",
    "model = LinearRegression()\n",
    "model.fit(Xs, y)\n",
    "\n",
    "print(x.shape, y.shape)\n",
    "print(f'{x[:3]} .. {x[-3:]}')\n",
    "\n",
    "plt.scatter(x, y)\n",
    "plt.plot(x, y - noise, 'r--')\n",
    "plt.plot(x, model.predict(Xs), c='black')\n",
    "plt.show()"
   ]
  },
  {
   "cell_type": "markdown",
   "id": "85184a20-3c86-4773-95f1-bebf8e0ce58e",
   "metadata": {},
   "source": [
    "# 1943 MCP 뉴런"
   ]
  },
  {
   "cell_type": "code",
   "execution_count": 27,
   "id": "e79f99b1-b1b7-4eb2-a3f0-c512fc84080f",
   "metadata": {},
   "outputs": [],
   "source": [
    "x = np.array([0.1, 0.2, 0.3])"
   ]
  },
  {
   "cell_type": "code",
   "execution_count": 28,
   "id": "4bef00a3-5f8c-48eb-b06e-216265c6cb48",
   "metadata": {},
   "outputs": [
    {
     "data": {
      "text/plain": [
       "array([-0.35011828, -0.31705753, -0.93168773])"
      ]
     },
     "execution_count": 28,
     "metadata": {},
     "output_type": "execute_result"
    }
   ],
   "source": [
    "w = np.random.randn(len(x))\n",
    "w"
   ]
  },
  {
   "cell_type": "markdown",
   "id": "8ceba9a6-9f66-494b-9a82-908929823df3",
   "metadata": {},
   "source": [
    "$ \\sum_k^n{x_kw_k} = x_1w_1 + x_2w_2 + x_3w_3 = x w $ "
   ]
  },
  {
   "cell_type": "code",
   "execution_count": 29,
   "id": "d18ed8eb-272f-490f-8036-00bee63013fa",
   "metadata": {},
   "outputs": [],
   "source": [
    "z = np.sum(x * w)\n",
    "assert z == np.dot(x, w)"
   ]
  },
  {
   "cell_type": "code",
   "execution_count": 30,
   "id": "0dc699b7-ff9b-4bae-a551-a0abe7d83df5",
   "metadata": {},
   "outputs": [
    {
     "name": "stdout",
     "output_type": "stream",
     "text": [
      "x=[0.1 0.2 0.3] -> MCP(z=-0.378) -> y=-1\n"
     ]
    }
   ],
   "source": [
    "b = 0.1\n",
    "y = 1 if z > b else -1\n",
    "\n",
    "print(f'x={x} -> MCP(z={z:.3f}) -> y={y}')"
   ]
  },
  {
   "cell_type": "code",
   "execution_count": 44,
   "id": "80f0e252-4b41-49a3-afe9-db433f83c496",
   "metadata": {},
   "outputs": [],
   "source": [
    "def MCP뉴런(x, w, b):\n",
    "    z = np.dot(x, w) + b\n",
    "    y = 1 if z > 0 else -1\n",
    "    return y"
   ]
  },
  {
   "cell_type": "code",
   "execution_count": 32,
   "id": "1081c275-6e9b-46fd-bdda-4e981ae1c31a",
   "metadata": {},
   "outputs": [
    {
     "name": "stdout",
     "output_type": "stream",
     "text": [
      "x=[0.1 0.2 0.3] -> MCP(z=-0.378) -> y=-1\n"
     ]
    }
   ],
   "source": [
    "y = MCP뉴런(x, w, b)\n",
    "print(f'x={x} -> MCP(z={z:.3f}) -> y={y}')"
   ]
  },
  {
   "cell_type": "markdown",
   "id": "024ce3c8-b90e-4165-bb33-5223a165a45b",
   "metadata": {},
   "source": [
    "논리 회로\n",
    "\n",
    "이 활동의 목적은 매개변수의 역할을 이해하는 것입니다."
   ]
  },
  {
   "cell_type": "code",
   "execution_count": 39,
   "id": "097ef636-385a-43d1-928b-92e4625508b2",
   "metadata": {},
   "outputs": [],
   "source": [
    "def logic(w, b):\n",
    "    for x in np.array([(0, 0), (0, 1), (1, 0), (1, 1)]):\n",
    "        y = MCP뉴런(x, w, b)\n",
    "        print(f'x={x} -> MCP -> y={y if y > 0 else 0}')"
   ]
  },
  {
   "cell_type": "code",
   "execution_count": 45,
   "id": "e2e14736-8a31-4a99-b6c7-78e752cf188b",
   "metadata": {},
   "outputs": [
    {
     "name": "stdout",
     "output_type": "stream",
     "text": [
      "x=[0 0] -> MCP -> y=0\n",
      "x=[0 1] -> MCP -> y=0\n",
      "x=[1 0] -> MCP -> y=0\n",
      "x=[1 1] -> MCP -> y=1\n"
     ]
    }
   ],
   "source": [
    "logic(w=np.array([0.5, 0.5]), b=-0.7)"
   ]
  },
  {
   "cell_type": "code",
   "execution_count": 46,
   "id": "5093e2fd-cd95-4b69-a03c-d02b647ab2eb",
   "metadata": {},
   "outputs": [
    {
     "name": "stdout",
     "output_type": "stream",
     "text": [
      "x=[0 0] -> MCP -> y=1\n",
      "x=[0 1] -> MCP -> y=1\n",
      "x=[1 0] -> MCP -> y=1\n",
      "x=[1 1] -> MCP -> y=0\n"
     ]
    }
   ],
   "source": [
    "logic(w=np.array([-0.5, -0.5]), b=0.7)"
   ]
  },
  {
   "cell_type": "code",
   "execution_count": 48,
   "id": "39cdd4f6-2ab6-4e2f-b0c7-5e4e83be2776",
   "metadata": {},
   "outputs": [
    {
     "name": "stdout",
     "output_type": "stream",
     "text": [
      "x=[0 0] -> MCP -> y=0\n",
      "x=[0 1] -> MCP -> y=1\n",
      "x=[1 0] -> MCP -> y=1\n",
      "x=[1 1] -> MCP -> y=1\n"
     ]
    }
   ],
   "source": [
    "logic(w=np.array([0.5, 0.5]), b=-0.2)"
   ]
  },
  {
   "cell_type": "markdown",
   "id": "4b26af24-3ceb-4acc-a5d6-b134d52fd817",
   "metadata": {},
   "source": [
    "# 1958 퍼셉트론"
   ]
  },
  {
   "cell_type": "code",
   "execution_count": 64,
   "id": "7f8dd3e4-8023-4884-8754-f6b704be3a9d",
   "metadata": {},
   "outputs": [],
   "source": [
    "class 퍼셉트론:\n",
    "    def __init__(self):\n",
    "        self.w = None\n",
    "        self.b = None\n",
    "\n",
    "    def __call__(self, x):\n",
    "        z = np.dot(x, self.w) + self.b\n",
    "        y = np.where(z > 0, 1, -1)\n",
    "        return y\n",
    "\n",
    "    def 학습(self, Xs, ys, 학습횟수, 학습률=1.0):\n",
    "        assert len(Xs) == len(ys)\n",
    "        # 매개변수 초기화\n",
    "        s, n = Xs.shape\n",
    "        self.w = np.zeros(n, dtype='float32')\n",
    "        self.b = 0.0\n",
    "\n",
    "        for 에폭 in range(학습횟수):\n",
    "            print(f'[학습 {에폭}] w={self.w}, b={self.b}')\n",
    "            for xi, yi in zip(Xs, ys):\n",
    "                output = self(xi)\n",
    "                error = yi - output\n",
    "                갱신 = error * 학습률\n",
    "                self.w += 갱신 * xi\n",
    "                self.b += 갱신"
   ]
  },
  {
   "cell_type": "code",
   "execution_count": 57,
   "id": "e36f34cf-90d6-4789-bfba-08ca242f4c6c",
   "metadata": {},
   "outputs": [
    {
     "data": {
      "text/plain": [
       "array([ 1, -1,  1, -1])"
      ]
     },
     "execution_count": 57,
     "metadata": {},
     "output_type": "execute_result"
    }
   ],
   "source": [
    "np.where([True, False, True, False], 1, -1)"
   ]
  },
  {
   "cell_type": "code",
   "execution_count": 58,
   "id": "089973aa-aee9-4264-939b-5250cbc68526",
   "metadata": {},
   "outputs": [
    {
     "data": {
      "text/plain": [
       "array([[ 1, -1],\n",
       "       [-1,  1]])"
      ]
     },
     "execution_count": 58,
     "metadata": {},
     "output_type": "execute_result"
    }
   ],
   "source": [
    "np.where([[True, False], [False, True]], 1, -1)"
   ]
  },
  {
   "cell_type": "code",
   "execution_count": 65,
   "id": "8566c54f-d7b9-4b41-a897-a0290baba2b4",
   "metadata": {
    "collapsed": true,
    "jupyter": {
     "outputs_hidden": true
    }
   },
   "outputs": [
    {
     "name": "stdout",
     "output_type": "stream",
     "text": [
      "[학습 0] w=[0. 0.], b=0.0\n",
      "[학습 1] w=[0.2 0.2], b=0.2\n",
      "[학습 2] w=[0.2 0.2], b=-0.2\n",
      "[학습 3] w=[0.4 0.2], b=-0.2\n",
      "[학습 4] w=[0.4 0.2], b=-0.4000000000000001\n",
      "[학습 5] w=[0.4 0.4], b=-0.4000000000000001\n",
      "[학습 6] w=[0.4 0.2], b=-0.6000000000000001\n",
      "[학습 7] w=[0.4 0.2], b=-0.6000000000000001\n",
      "[학습 8] w=[0.4 0.2], b=-0.6000000000000001\n",
      "[학습 9] w=[0.4 0.2], b=-0.6000000000000001\n"
     ]
    }
   ],
   "source": [
    "Xs = np.array([(0, 0), (0, 1), (1, 0), (1, 1)])\n",
    "y_and = np.array([-1, -1, -1, 1])\n",
    "model = 퍼셉트론()\n",
    "model.학습(Xs, y_and, 학습횟수=10, 학습률=0.1)\n",
    "assert all(model(Xs) == y_and)"
   ]
  },
  {
   "cell_type": "code",
   "execution_count": 66,
   "id": "62e9d1b3-dcfa-42eb-8c89-73b3edc3efa2",
   "metadata": {
    "collapsed": true,
    "jupyter": {
     "outputs_hidden": true
    }
   },
   "outputs": [
    {
     "name": "stdout",
     "output_type": "stream",
     "text": [
      "[학습 0] w=[0. 0.], b=0.0\n",
      "[학습 1] w=[-0.2 -0.2], b=0.0\n",
      "[학습 2] w=[-0.4 -0.2], b=0.2\n",
      "[학습 3] w=[-0.4 -0.2], b=0.4000000000000001\n",
      "[학습 4] w=[-0.4 -0.4], b=0.4000000000000001\n",
      "[학습 5] w=[-0.4 -0.2], b=0.6000000000000001\n",
      "[학습 6] w=[-0.4 -0.2], b=0.6000000000000001\n",
      "[학습 7] w=[-0.4 -0.2], b=0.6000000000000001\n",
      "[학습 8] w=[-0.4 -0.2], b=0.6000000000000001\n",
      "[학습 9] w=[-0.4 -0.2], b=0.6000000000000001\n"
     ]
    }
   ],
   "source": [
    "Xs = np.array([(0, 0), (0, 1), (1, 0), (1, 1)])\n",
    "y_nand = np.array([1, 1, 1, -1])\n",
    "model = 퍼셉트론()\n",
    "model.학습(Xs, y_nand, 학습횟수=10, 학습률=0.1)\n",
    "assert all(model(Xs) == y_nand)"
   ]
  },
  {
   "cell_type": "code",
   "execution_count": 67,
   "id": "0fba69dc-2ced-4b85-a670-9cc721bf646a",
   "metadata": {},
   "outputs": [
    {
     "name": "stdout",
     "output_type": "stream",
     "text": [
      "[학습 0] w=[0. 0.], b=0.0\n",
      "[학습 1] w=[0.  0.2], b=0.2\n",
      "[학습 2] w=[0.2 0.2], b=0.2\n",
      "[학습 3] w=[0.2 0.2], b=0.0\n",
      "[학습 4] w=[0.2 0.2], b=0.0\n",
      "[학습 5] w=[0.2 0.2], b=0.0\n",
      "[학습 6] w=[0.2 0.2], b=0.0\n",
      "[학습 7] w=[0.2 0.2], b=0.0\n",
      "[학습 8] w=[0.2 0.2], b=0.0\n",
      "[학습 9] w=[0.2 0.2], b=0.0\n"
     ]
    }
   ],
   "source": [
    "Xs = np.array([(0, 0), (0, 1), (1, 0), (1, 1)])\n",
    "y_or = np.array([-1, 1, 1, 1])\n",
    "model = 퍼셉트론()\n",
    "model.학습(Xs, y_or, 학습횟수=10, 학습률=0.1)\n",
    "assert all(model(Xs) == y_or)"
   ]
  },
  {
   "cell_type": "code",
   "execution_count": 69,
   "id": "4e5b3698-8bec-4f84-b66d-06811b9faf70",
   "metadata": {},
   "outputs": [],
   "source": [
    "from sklearn.datasets import load_iris\n",
    "\n",
    "iris = load_iris()"
   ]
  },
  {
   "cell_type": "code",
   "execution_count": 70,
   "id": "bf54c228-68af-4c34-b588-75cdb9ef12ea",
   "metadata": {},
   "outputs": [
    {
     "data": {
      "text/plain": [
       "sklearn.utils._bunch.Bunch"
      ]
     },
     "execution_count": 70,
     "metadata": {},
     "output_type": "execute_result"
    }
   ],
   "source": [
    "type(iris)"
   ]
  },
  {
   "cell_type": "code",
   "execution_count": 74,
   "id": "5dfa033e-1014-40da-90f7-91475e9721f7",
   "metadata": {},
   "outputs": [
    {
     "data": {
      "text/plain": [
       "(150, 4)"
      ]
     },
     "execution_count": 74,
     "metadata": {},
     "output_type": "execute_result"
    }
   ],
   "source": [
    "Xs = iris.data\n",
    "Xs.shape"
   ]
  },
  {
   "cell_type": "code",
   "execution_count": 77,
   "id": "9efdeb24-088f-4c5c-a20c-6fccff9c077a",
   "metadata": {
    "collapsed": true,
    "jupyter": {
     "outputs_hidden": true
    }
   },
   "outputs": [
    {
     "data": {
      "text/html": [
       "<div>\n",
       "<style scoped>\n",
       "    .dataframe tbody tr th:only-of-type {\n",
       "        vertical-align: middle;\n",
       "    }\n",
       "\n",
       "    .dataframe tbody tr th {\n",
       "        vertical-align: top;\n",
       "    }\n",
       "\n",
       "    .dataframe thead th {\n",
       "        text-align: right;\n",
       "    }\n",
       "</style>\n",
       "<table border=\"1\" class=\"dataframe\">\n",
       "  <thead>\n",
       "    <tr style=\"text-align: right;\">\n",
       "      <th></th>\n",
       "      <th>sepal length (cm)</th>\n",
       "      <th>sepal width (cm)</th>\n",
       "      <th>petal length (cm)</th>\n",
       "      <th>petal width (cm)</th>\n",
       "    </tr>\n",
       "  </thead>\n",
       "  <tbody>\n",
       "    <tr>\n",
       "      <th>0</th>\n",
       "      <td>5.1</td>\n",
       "      <td>3.5</td>\n",
       "      <td>1.4</td>\n",
       "      <td>0.2</td>\n",
       "    </tr>\n",
       "    <tr>\n",
       "      <th>1</th>\n",
       "      <td>4.9</td>\n",
       "      <td>3.0</td>\n",
       "      <td>1.4</td>\n",
       "      <td>0.2</td>\n",
       "    </tr>\n",
       "    <tr>\n",
       "      <th>2</th>\n",
       "      <td>4.7</td>\n",
       "      <td>3.2</td>\n",
       "      <td>1.3</td>\n",
       "      <td>0.2</td>\n",
       "    </tr>\n",
       "    <tr>\n",
       "      <th>3</th>\n",
       "      <td>4.6</td>\n",
       "      <td>3.1</td>\n",
       "      <td>1.5</td>\n",
       "      <td>0.2</td>\n",
       "    </tr>\n",
       "    <tr>\n",
       "      <th>4</th>\n",
       "      <td>5.0</td>\n",
       "      <td>3.6</td>\n",
       "      <td>1.4</td>\n",
       "      <td>0.2</td>\n",
       "    </tr>\n",
       "    <tr>\n",
       "      <th>...</th>\n",
       "      <td>...</td>\n",
       "      <td>...</td>\n",
       "      <td>...</td>\n",
       "      <td>...</td>\n",
       "    </tr>\n",
       "    <tr>\n",
       "      <th>145</th>\n",
       "      <td>6.7</td>\n",
       "      <td>3.0</td>\n",
       "      <td>5.2</td>\n",
       "      <td>2.3</td>\n",
       "    </tr>\n",
       "    <tr>\n",
       "      <th>146</th>\n",
       "      <td>6.3</td>\n",
       "      <td>2.5</td>\n",
       "      <td>5.0</td>\n",
       "      <td>1.9</td>\n",
       "    </tr>\n",
       "    <tr>\n",
       "      <th>147</th>\n",
       "      <td>6.5</td>\n",
       "      <td>3.0</td>\n",
       "      <td>5.2</td>\n",
       "      <td>2.0</td>\n",
       "    </tr>\n",
       "    <tr>\n",
       "      <th>148</th>\n",
       "      <td>6.2</td>\n",
       "      <td>3.4</td>\n",
       "      <td>5.4</td>\n",
       "      <td>2.3</td>\n",
       "    </tr>\n",
       "    <tr>\n",
       "      <th>149</th>\n",
       "      <td>5.9</td>\n",
       "      <td>3.0</td>\n",
       "      <td>5.1</td>\n",
       "      <td>1.8</td>\n",
       "    </tr>\n",
       "  </tbody>\n",
       "</table>\n",
       "<p>150 rows × 4 columns</p>\n",
       "</div>"
      ],
      "text/plain": [
       "     sepal length (cm)  sepal width (cm)  petal length (cm)  petal width (cm)\n",
       "0                  5.1               3.5                1.4               0.2\n",
       "1                  4.9               3.0                1.4               0.2\n",
       "2                  4.7               3.2                1.3               0.2\n",
       "3                  4.6               3.1                1.5               0.2\n",
       "4                  5.0               3.6                1.4               0.2\n",
       "..                 ...               ...                ...               ...\n",
       "145                6.7               3.0                5.2               2.3\n",
       "146                6.3               2.5                5.0               1.9\n",
       "147                6.5               3.0                5.2               2.0\n",
       "148                6.2               3.4                5.4               2.3\n",
       "149                5.9               3.0                5.1               1.8\n",
       "\n",
       "[150 rows x 4 columns]"
      ]
     },
     "execution_count": 77,
     "metadata": {},
     "output_type": "execute_result"
    }
   ],
   "source": [
    "import pandas as pd\n",
    "\n",
    "pd.DataFrame(iris.data, columns=iris.feature_names)"
   ]
  },
  {
   "cell_type": "code",
   "execution_count": 78,
   "id": "cf744e71-f206-44cd-b930-3881833af2c7",
   "metadata": {},
   "outputs": [
    {
     "data": {
      "text/plain": [
       "array(['setosa', 'versicolor', 'virginica'], dtype='<U10')"
      ]
     },
     "execution_count": 78,
     "metadata": {},
     "output_type": "execute_result"
    }
   ],
   "source": [
    "iris.target_names"
   ]
  },
  {
   "cell_type": "code",
   "execution_count": 79,
   "id": "98223ba2-a335-46af-a356-f10b6bc842f0",
   "metadata": {},
   "outputs": [
    {
     "data": {
      "text/plain": [
       "array([0, 0, 0, 0, 0, 0, 0, 0, 0, 0, 0, 0, 0, 0, 0, 0, 0, 0, 0, 0, 0, 0,\n",
       "       0, 0, 0, 0, 0, 0, 0, 0, 0, 0, 0, 0, 0, 0, 0, 0, 0, 0, 0, 0, 0, 0,\n",
       "       0, 0, 0, 0, 0, 0, 1, 1, 1, 1, 1, 1, 1, 1, 1, 1, 1, 1, 1, 1, 1, 1,\n",
       "       1, 1, 1, 1, 1, 1, 1, 1, 1, 1, 1, 1, 1, 1, 1, 1, 1, 1, 1, 1, 1, 1,\n",
       "       1, 1, 1, 1, 1, 1, 1, 1, 1, 1, 1, 1, 2, 2, 2, 2, 2, 2, 2, 2, 2, 2,\n",
       "       2, 2, 2, 2, 2, 2, 2, 2, 2, 2, 2, 2, 2, 2, 2, 2, 2, 2, 2, 2, 2, 2,\n",
       "       2, 2, 2, 2, 2, 2, 2, 2, 2, 2, 2, 2, 2, 2, 2, 2, 2, 2])"
      ]
     },
     "execution_count": 79,
     "metadata": {},
     "output_type": "execute_result"
    }
   ],
   "source": [
    "iris.target"
   ]
  },
  {
   "cell_type": "code",
   "execution_count": 80,
   "id": "ef0e30ae-34e1-4008-bb49-0b9b9248bc86",
   "metadata": {},
   "outputs": [],
   "source": [
    "붓꽃분류기 = 퍼셉트론()"
   ]
  },
  {
   "cell_type": "code",
   "execution_count": 88,
   "id": "5a9a0a40-a335-48f7-bf3a-9a38a9fb2cd3",
   "metadata": {},
   "outputs": [
    {
     "name": "stdout",
     "output_type": "stream",
     "text": [
      "[학습 0] w=[0. 0. 0. 0.], b=0.0\n",
      "[학습 1] w=[1.4  0.64 0.94 0.28], b=0.2\n",
      "[학습 2] w=[ 0.79999995 -0.02000003  1.32        0.48      ], b=0.0\n",
      "[학습 3] w=[-0.22000004 -0.72        1.0400001   0.44      ], b=-0.2\n",
      "[학습 4] w=[-0.22000004 -0.72        1.0400001   0.44      ], b=-0.2\n",
      "[학습 5] w=[-0.22000004 -0.72        1.0400001   0.44      ], b=-0.2\n",
      "[학습 6] w=[-0.22000004 -0.72        1.0400001   0.44      ], b=-0.2\n",
      "[학습 7] w=[-0.22000004 -0.72        1.0400001   0.44      ], b=-0.2\n",
      "[학습 8] w=[-0.22000004 -0.72        1.0400001   0.44      ], b=-0.2\n",
      "[학습 9] w=[-0.22000004 -0.72        1.0400001   0.44      ], b=-0.2\n"
     ]
    }
   ],
   "source": [
    "필터 = np.logical_or(iris.target == 0, iris.target == 1)\n",
    "y1 = iris.target[필터]\n",
    "X1 = iris.data[필터]\n",
    "y1 = np.where(y1 == 1, 1, -1)\n",
    "assert all(np.unique(y1) == [-1, 1])\n",
    "assert len(y1) == len(X1)\n",
    "\n",
    "붓꽃분류기.학습(X1, y1, 학습횟수=10, 학습률=0.1)"
   ]
  },
  {
   "cell_type": "code",
   "execution_count": 92,
   "id": "15bde35d-c43a-4a96-8721-61e4322e53cb",
   "metadata": {},
   "outputs": [
    {
     "name": "stdout",
     "output_type": "stream",
     "text": [
      "100 / 100\n"
     ]
    }
   ],
   "source": [
    "예측 = 붓꽃분류기(X1)\n",
    "print(f'{sum(예측 == y1)} / {len(y1)}')"
   ]
  },
  {
   "cell_type": "code",
   "execution_count": 99,
   "id": "88f1bcce-49f9-40bc-978b-0ed3cb97cfde",
   "metadata": {
    "collapsed": true,
    "jupyter": {
     "outputs_hidden": true
    }
   },
   "outputs": [
    {
     "name": "stdout",
     "output_type": "stream",
     "text": [
      "[학습 0] w=[0. 0. 0. 0.], b=0.0\n",
      "[학습 1] w=[ 1.4       -0.1999999 -2.6000004 -2.2      ], b=0.0\n",
      "[학습 2] w=[ 2.7999997 -0.3999997 -5.2000003 -4.4      ], b=0.0\n",
      "[학습 3] w=[ 4.1999993  -0.59999955 -7.8        -6.6000004 ], b=0.0\n",
      "[학습 4] w=[  5.599999    -0.79999936 -10.400001    -8.8       ], b=0.0\n",
      "[학습 5] w=[  6.9999986   -0.99999917 -13.000001   -11.        ], b=0.0\n",
      "[학습 6] w=[  8.399998  -1.199999 -15.6      -13.2     ], b=0.0\n",
      "[학습 7] w=[  9.799997   -1.3999988 -18.2       -15.4      ], b=0.0\n",
      "[학습 8] w=[ 11.199997   -1.5999986 -20.800001  -17.599998 ], b=0.0\n",
      "[학습 9] w=[ 12.599997   -1.7999984 -23.400002  -19.8      ], b=0.0\n",
      "[학습 10] w=[ 13.999996   -1.9999982 -26.000002  -22.       ], b=0.0\n",
      "[학습 11] w=[ 15.399996  -2.199998 -28.600002 -24.2     ], b=0.0\n",
      "[학습 12] w=[ 16.799995   -2.3999977 -31.200003  -26.400002 ], b=0.0\n",
      "[학습 13] w=[ 18.199995   -2.5999975 -33.800003  -28.600002 ], b=0.0\n",
      "[학습 14] w=[ 19.599997   -2.7999973 -36.4       -30.800003 ], b=0.0\n",
      "[학습 15] w=[ 21.999998   -1.7999972 -37.2       -31.800003 ], b=0.0\n",
      "[학습 16] w=[ 23.4        -1.9999973 -39.800003  -34.000004 ], b=0.0\n",
      "[학습 17] w=[ 25.800001  -0.999997 -40.600002 -35.000004], b=0.0\n",
      "[학습 18] w=[ 27.200003   -1.1999971 -43.200005  -37.200005 ], b=0.0\n",
      "[학습 19] w=[ 29.600004    -0.19999686 -44.000004   -38.200005  ], b=0.0\n"
     ]
    }
   ],
   "source": [
    "필터 = np.logical_or(iris.target == 1, iris.target == 2)\n",
    "y2 = iris.target[필터]\n",
    "X2 = iris.data[필터]\n",
    "y2 = np.where(y2 == 1, 1, -1)\n",
    "assert all(np.unique(y2) == [-1, 1])\n",
    "assert len(y2) == len(X2)\n",
    "\n",
    "붓꽃분류기.학습(X2, y2, 학습횟수=20, 학습률=1.0)"
   ]
  },
  {
   "cell_type": "code",
   "execution_count": 100,
   "id": "7f150d19-98a5-4f01-9c52-6d34d3b33b1c",
   "metadata": {},
   "outputs": [
    {
     "name": "stdout",
     "output_type": "stream",
     "text": [
      "50 / 100\n"
     ]
    }
   ],
   "source": [
    "예측 = 붓꽃분류기(X2)\n",
    "print(f'{sum(예측 == y2)} / {len(y2)}')"
   ]
  },
  {
   "cell_type": "code",
   "execution_count": 110,
   "id": "ff7f7b0a-6dbb-4fd9-9758-cf377ff52e6e",
   "metadata": {
    "collapsed": true,
    "jupyter": {
     "outputs_hidden": true
    }
   },
   "outputs": [
    {
     "name": "stdout",
     "output_type": "stream",
     "text": [
      "[학습 0] w=[0. 0.], b=0.0\n",
      "[학습 1] w=[1.4  0.94], b=0.2\n",
      "[학습 2] w=[0.79999995 1.32      ], b=0.0\n",
      "[학습 3] w=[0.19999996 1.7000002 ], b=-0.2\n",
      "[학습 4] w=[0.31999993 2.1200001 ], b=-0.2\n",
      "[학습 5] w=[-0.70000005  1.8400002 ], b=-0.4\n",
      "[학습 6] w=[-0.70000005  1.8400002 ], b=-0.4\n",
      "[학습 7] w=[-0.70000005  1.8400002 ], b=-0.4\n",
      "[학습 8] w=[-0.70000005  1.8400002 ], b=-0.4\n",
      "[학습 9] w=[-0.70000005  1.8400002 ], b=-0.4\n",
      "[학습 0] w=[0. 0.], b=0.0\n",
      "[학습 1] w=[ 0.13999997 -0.26      ], b=0.0\n",
      "[학습 2] w=[ 0.27999997 -0.52      ], b=0.0\n",
      "[학습 3] w=[ 0.41999996 -0.78      ], b=0.0\n",
      "[학습 4] w=[ 0.55999994 -1.04      ], b=0.0\n",
      "[학습 5] w=[ 0.6999999 -1.3      ], b=0.0\n",
      "[학습 6] w=[ 0.8399999 -1.56     ], b=0.0\n",
      "[학습 7] w=[ 0.98      -1.8199999], b=0.0\n",
      "[학습 8] w=[ 1.1200001 -2.08     ], b=0.0\n",
      "[학습 9] w=[ 1.2600002 -2.34     ], b=0.0\n"
     ]
    },
    {
     "data": {
      "image/png": "[encoded data removed]",
      "text/plain": [
       "<Figure size 640x480 with 1 Axes>"
      ]
     },
     "metadata": {},
     "output_type": "display_data"
    }
   ],
   "source": [
    "iris.frame = pd.DataFrame(iris.data, columns=[f'x{i}' for i in range(1, 5)])\n",
    "\n",
    "유형별색상 = np.where(\n",
    "    iris.target == 0, 'r', np.where(iris.target == 1, 'g', 'b'))\n",
    "iris.frame.plot(kind='scatter', x='x1', y='x3', c=유형별색상)\n",
    "\n",
    "model_1 = 퍼셉트론()\n",
    "model_1.학습(X1[:, [0, 2]], y1, 학습횟수=10, 학습률=0.1)\n",
    "\n",
    "model_2 = 퍼셉트론()\n",
    "model_2.학습(X2[:, [0, 2]], y2, 학습횟수=10, 학습률=0.1)\n",
    "\n",
    "# 결정 경계 시각화\n",
    "z0 = lambda x1, w, b: (w[0] * x1 + b) / -w[1]\n",
    "x1 = np.arange(4.0, 8.0, 0.1)\n",
    "plt.plot(x1, z0(x1, w=model_1.w, b=model_1.b))\n",
    "plt.plot(x1, z0(x1, w=model_2.w, b=model_2.b))\n",
    "plt.show()"
   ]
  },
  {
   "cell_type": "markdown",
   "id": "f66f31e9-b447-4cd3-bc04-0fd1e0e76505",
   "metadata": {},
   "source": [
    "Perceptron -> Logistic Regression"
   ]
  },
  {
   "cell_type": "code",
   "execution_count": 111,
   "id": "aee62d13-3fb4-4cb8-add8-64b633a85b86",
   "metadata": {},
   "outputs": [],
   "source": [
    "from sklearn.linear_model import LogisticRegression"
   ]
  },
  {
   "cell_type": "code",
   "execution_count": 112,
   "id": "8b066cd1-197e-49e7-b934-c77568e64972",
   "metadata": {},
   "outputs": [
    {
     "data": {
      "image/png": "[encoded data removed]",
      "text/plain": [
       "<Figure size 640x480 with 1 Axes>"
      ]
     },
     "metadata": {},
     "output_type": "display_data"
    }
   ],
   "source": [
    "iris.frame = pd.DataFrame(iris.data, columns=[f'x{i}' for i in range(1, 5)])\n",
    "\n",
    "유형별색상 = np.where(\n",
    "    iris.target == 0, 'r', np.where(iris.target == 1, 'g', 'b'))\n",
    "iris.frame.plot(kind='scatter', x='x1', y='x3', c=유형별색상)\n",
    "\n",
    "model_1 = LogisticRegression()\n",
    "model_1.fit(X1[:, [0, 2]], y1)\n",
    "\n",
    "model_2 = LogisticRegression()\n",
    "model_2.fit(X2[:, [0, 2]], y2)\n",
    "\n",
    "# 결정 경계 시각화\n",
    "z0 = lambda x1, w, b: (w[0] * x1 + b) / -w[1]\n",
    "x1 = np.arange(4.0, 8.0, 0.1)\n",
    "plt.plot(x1, z0(x1, w=model_1.coef_[0], b=model_1.intercept_))\n",
    "plt.plot(x1, z0(x1, w=model_2.coef_[0], b=model_2.intercept_))\n",
    "plt.show()"
   ]
  },
  {
   "cell_type": "code",
   "execution_count": null,
   "id": "2b8e1704-b100-450b-be9d-c3209628562e",
   "metadata": {},
   "outputs": [],
   "source": []
  }
 ],
 "metadata": {
  "kernelspec": {
   "display_name": "pydeep",
   "language": "python",
   "name": "pydeep"
  },
  "language_info": {
   "codemirror_mode": {
    "name": "ipython",
    "version": 3
   },
   "file_extension": ".py",
   "mimetype": "text/x-python",
   "name": "python",
   "nbconvert_exporter": "python",
   "pygments_lexer": "ipython3",
   "version": "3.9.18"
  }
 },
 "nbformat": 4,
 "nbformat_minor": 5
}
