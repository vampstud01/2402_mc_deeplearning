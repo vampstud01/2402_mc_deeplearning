{
 "cells": [
  {
   "cell_type": "code",
   "execution_count": 1,
   "id": "a9d44e0e-1e60-45ef-a6f3-0b9dad55d49d",
   "metadata": {},
   "outputs": [],
   "source": [
    "import numpy as np # 텐서 연산\n",
    "import pandas as pd # 표 형식\n",
    "import matplotlib.pyplot as plt # 그래프"
   ]
  },
  {
   "cell_type": "code",
   "execution_count": 2,
   "id": "db59e496-26d3-4897-b3fc-49cee32d1cdb",
   "metadata": {},
   "outputs": [],
   "source": [
    "class 완전연결:\n",
    "    def __init__(self, 입력수, 출력수, 활성화=None):\n",
    "        self.W = np.random.randn(입력수, 출력수)\n",
    "        self.b = np.random.randn(출력수)\n",
    "        self.activation = 활성화\n",
    "\n",
    "    def __call__(self, Xs):\n",
    "        zs = np.dot(Xs, self.W) + self.b\n",
    "        if self.activation:\n",
    "            return self.activation(zs)\n",
    "        return zs # 항등 함수\n",
    "\n",
    "class 신경망:\n",
    "    def __init__(self):\n",
    "        self.layers = []\n",
    "\n",
    "    def add(self, 계층):\n",
    "        self.layers.append(계층)\n",
    "\n",
    "    def __call__(self, Xs):\n",
    "        \"\"\"순전파 (feed forward)\"\"\"\n",
    "        출력 = Xs\n",
    "        for 계층 in self.layers:\n",
    "            출력 = 계층(출력)\n",
    "        return 출력\n",
    "\n",
    "FC = Dense = Affine = Linear = 완전연결"
   ]
  },
  {
   "cell_type": "code",
   "execution_count": 3,
   "id": "e0ab7746-cd24-406a-b093-59c6b81184ec",
   "metadata": {},
   "outputs": [],
   "source": [
    "import pickle"
   ]
  },
  {
   "cell_type": "code",
   "execution_count": 4,
   "id": "fc1e3e8b-9b50-4e2c-9456-202c85a3eb8a",
   "metadata": {},
   "outputs": [],
   "source": [
    "with open('data/mnist/mnist_ndarray.pkl', 'rb') as 파일:\n",
    "    mnist_data = pickle.load(파일)"
   ]
  },
  {
   "cell_type": "code",
   "execution_count": 5,
   "id": "39cde6d8-f98a-4d72-aa64-d35a390b777d",
   "metadata": {},
   "outputs": [
    {
     "name": "stdout",
     "output_type": "stream",
     "text": [
      "(60000, 28, 28) (10000, 28, 28)\n"
     ]
    }
   ],
   "source": [
    "(train_images, train_labels), (test_images, test_labels) = mnist_data\n",
    "print(train_images.shape, test_images.shape)\n",
    "assert train_images.shape[1:] == test_images.shape[1:]\n",
    "assert len(train_images) == len(train_labels)\n",
    "assert len(test_images) == len(test_labels)"
   ]
  },
  {
   "cell_type": "code",
   "execution_count": 6,
   "id": "e554204b-2302-4dc5-8fad-31dfa4be0e12",
   "metadata": {},
   "outputs": [
    {
     "data": {
      "text/plain": [
       "array([0, 1, 2, 3, 4, 5, 6, 7, 8, 9], dtype=uint8)"
      ]
     },
     "execution_count": 6,
     "metadata": {},
     "output_type": "execute_result"
    }
   ],
   "source": [
    "np.unique(train_labels)"
   ]
  },
  {
   "cell_type": "code",
   "execution_count": 7,
   "id": "58459f73-ce5d-46d2-9fd6-b886eb65131f",
   "metadata": {},
   "outputs": [
    {
     "data": {
      "text/plain": [
       "(0, 255)"
      ]
     },
     "execution_count": 7,
     "metadata": {},
     "output_type": "execute_result"
    }
   ],
   "source": [
    "train_images[0].min(), train_images[0].max()"
   ]
  },
  {
   "cell_type": "code",
   "execution_count": 8,
   "id": "5ce0b53c-a4a6-427b-aff5-b2e040b2c406",
   "metadata": {},
   "outputs": [
    {
     "name": "stderr",
     "output_type": "stream",
     "text": [
      "C:\\Users\\student\\AppData\\Local\\Temp\\ipykernel_1756\\1233423015.py:1: RuntimeWarning: overflow encountered in exp\n",
      "  np.exp(1000.0)\n"
     ]
    },
    {
     "data": {
      "text/plain": [
       "inf"
      ]
     },
     "execution_count": 8,
     "metadata": {},
     "output_type": "execute_result"
    }
   ],
   "source": [
    "np.exp(1000.0)"
   ]
  },
  {
   "cell_type": "code",
   "execution_count": 9,
   "id": "64416c99-7212-47d8-b869-6a7fbc69212c",
   "metadata": {},
   "outputs": [
    {
     "name": "stdout",
     "output_type": "stream",
     "text": [
      "uint8 -> float32\n",
      "(60000, 28, 28) -> (60000, 784)\n",
      "255 -> 1.0\n"
     ]
    }
   ],
   "source": [
    "def 전처리(images):\n",
    "    Xs = images.astype('float32')\n",
    "    Xs = Xs.reshape(-1, 28 * 28)\n",
    "    Xs /= 255\n",
    "    return Xs\n",
    "\n",
    "X_train = 전처리(train_images)\n",
    "print(train_images.dtype, '->', X_train.dtype)\n",
    "print(train_images.shape, '->', X_train.shape)\n",
    "print(train_images.max(), '->', X_train.max())"
   ]
  },
  {
   "cell_type": "code",
   "execution_count": 10,
   "id": "00691320-e125-4bb7-8180-1c7d07769c32",
   "metadata": {},
   "outputs": [],
   "source": [
    "sigmoid = lambda z: 1 / (1 + np.exp(-z))\n",
    "\n",
    "model = 신경망()\n",
    "model.add(FC(784, 50, sigmoid))\n",
    "model.add(FC(50, 100, sigmoid))\n",
    "model.add(FC(100, 10))"
   ]
  },
  {
   "cell_type": "markdown",
   "id": "bfe67c68-fd05-468b-af15-d70af50d4589",
   "metadata": {},
   "source": [
    "학습된 가중치를 신경망의 각 계층에 적용합니다."
   ]
  },
  {
   "cell_type": "code",
   "execution_count": 11,
   "id": "c2f5416e-6893-4121-b404-6754f829b75d",
   "metadata": {},
   "outputs": [],
   "source": [
    "import pickle\n",
    "\n",
    "with open('data/mnist/mnist_weight.pkl', 'rb') as 파일:\n",
    "    params = pickle.load(파일)\n",
    "\n",
    "for layer, (W, b) in zip(model.layers, params):\n",
    "    assert layer.W.shape == W.shape\n",
    "    assert layer.b.shape == b.shape\n",
    "    layer.W = W\n",
    "    layer.b = b"
   ]
  },
  {
   "cell_type": "code",
   "execution_count": 12,
   "id": "49c32a49-6a21-4e30-b0be-2c67a7000471",
   "metadata": {},
   "outputs": [
    {
     "name": "stdout",
     "output_type": "stream",
     "text": [
      "X=(10000, 784) -> model -> y=(10000, 10)\n",
      "분류 정확도: 93.52%\n"
     ]
    }
   ],
   "source": [
    "X_test = 전처리(test_images)\n",
    "outputs = model(X_test)\n",
    "print(f'X={X_test.shape} -> model -> y={outputs.shape}')\n",
    "y_pred = outputs.argmax(axis=1)\n",
    "채점 = y_pred == test_labels\n",
    "print(f'분류 정확도: {np.mean(채점):.2%}')"
   ]
  },
  {
   "cell_type": "code",
   "execution_count": 13,
   "id": "487ebb41-0d33-478c-9eb8-8bf0e9634c77",
   "metadata": {},
   "outputs": [
    {
     "data": {
      "text/plain": [
       "array([0, 1, 2], dtype=int64)"
      ]
     },
     "execution_count": 13,
     "metadata": {},
     "output_type": "execute_result"
    }
   ],
   "source": [
    "np.array([[0.7, 0.2, 0.1],\n",
    "          [0.2, 0.7, 0.1],\n",
    "          [0.2, 0.1, 0.7]]).argmax(axis=1)"
   ]
  },
  {
   "cell_type": "markdown",
   "id": "49555c82-07a4-4747-9b69-aa96ca0d02c7",
   "metadata": {},
   "source": [
    "# 신경망 학습\n",
    "\n",
    "1. 손실 함수\n",
    "2. 최적화"
   ]
  },
  {
   "cell_type": "markdown",
   "id": "4cd621d1-1b03-4f90-9477-ba140cfc632e",
   "metadata": {},
   "source": [
    "## 손실 함수\n",
    "\n",
    "1. 회귀 출력 (평균제곱오차)\n",
    "2. 분류 출력"
   ]
  },
  {
   "cell_type": "code",
   "execution_count": 14,
   "id": "c4b7d49d-66b8-43b3-9915-4a8b6cf5aaaf",
   "metadata": {},
   "outputs": [
    {
     "name": "stdout",
     "output_type": "stream",
     "text": [
      "Loss (y): 0.0\n",
      "Loss (y0): 1.12\n",
      "Loss (y_LR): 1.06\n",
      "Loss (y1): 9.01\n"
     ]
    },
    {
     "data": {
      "image/png": "[encoded data removed]",
      "text/plain": [
       "<Figure size 640x480 with 1 Axes>"
      ]
     },
     "metadata": {},
     "output_type": "display_data"
    }
   ],
   "source": [
    "from sklearn.linear_model import LinearRegression\n",
    "\n",
    "x = np.linspace(-5, 5, 100)\n",
    "noise = np.random.randn(len(x))\n",
    "y = x + noise\n",
    "\n",
    "Xs = x.reshape(-1, 1)\n",
    "model = LinearRegression().fit(Xs, y)\n",
    "\n",
    "# 선형 모형\n",
    "f = lambda x, w, b: w * x + b\n",
    "# 평균제곱오차\n",
    "평균제곱오차 = mse = lambda y, y_pred: np.mean((y - y_pred) ** 2)\n",
    "y0 = y - noise\n",
    "y1 = f(x, w=2.0, b=-0.5)\n",
    "print(f'Loss (y): {mse(y, y)}')\n",
    "print(f'Loss (y0): {mse(y, y0):.2f}')\n",
    "print(f'Loss (y_LR): {mse(y, y_pred=model.predict(Xs)):.2f}')\n",
    "print(f'Loss (y1): {mse(y, y1):.2f}')\n",
    "\n",
    "plt.scatter(x, y)\n",
    "plt.plot(x, y - noise, 'r--')\n",
    "plt.plot(x, model.predict(Xs), 'k')\n",
    "plt.plot(x, y1, 'k')\n",
    "plt.show()"
   ]
  },
  {
   "cell_type": "markdown",
   "id": "32988ead-119f-444e-81b6-78e0d2e6046b",
   "metadata": {},
   "source": [
    "### 분류 출력 평가"
   ]
  },
  {
   "cell_type": "code",
   "execution_count": 15,
   "id": "9abb9729-89df-4050-b191-4512f202caea",
   "metadata": {},
   "outputs": [
    {
     "data": {
      "text/html": [
       "<div>\n",
       "<style scoped>\n",
       "    .dataframe tbody tr th:only-of-type {\n",
       "        vertical-align: middle;\n",
       "    }\n",
       "\n",
       "    .dataframe tbody tr th {\n",
       "        vertical-align: top;\n",
       "    }\n",
       "\n",
       "    .dataframe thead th {\n",
       "        text-align: right;\n",
       "    }\n",
       "</style>\n",
       "<table border=\"1\" class=\"dataframe\">\n",
       "  <thead>\n",
       "    <tr style=\"text-align: right;\">\n",
       "      <th></th>\n",
       "      <th>Pr(y=0|x)</th>\n",
       "      <th>Pr(y=1|x)</th>\n",
       "      <th>Pr(y=2|x)</th>\n",
       "    </tr>\n",
       "  </thead>\n",
       "  <tbody>\n",
       "    <tr>\n",
       "      <th>5</th>\n",
       "      <td>0.892603</td>\n",
       "      <td>0.105913</td>\n",
       "      <td>0.001484</td>\n",
       "    </tr>\n",
       "    <tr>\n",
       "      <th>115</th>\n",
       "      <td>0.005725</td>\n",
       "      <td>0.232305</td>\n",
       "      <td>0.761971</td>\n",
       "    </tr>\n",
       "    <tr>\n",
       "      <th>59</th>\n",
       "      <td>0.138957</td>\n",
       "      <td>0.698868</td>\n",
       "      <td>0.162175</td>\n",
       "    </tr>\n",
       "    <tr>\n",
       "      <th>30</th>\n",
       "      <td>0.878729</td>\n",
       "      <td>0.120383</td>\n",
       "      <td>0.000888</td>\n",
       "    </tr>\n",
       "    <tr>\n",
       "      <th>41</th>\n",
       "      <td>0.870316</td>\n",
       "      <td>0.129117</td>\n",
       "      <td>0.000567</td>\n",
       "    </tr>\n",
       "  </tbody>\n",
       "</table>\n",
       "</div>"
      ],
      "text/plain": [
       "     Pr(y=0|x)  Pr(y=1|x)  Pr(y=2|x)\n",
       "5     0.892603   0.105913   0.001484\n",
       "115   0.005725   0.232305   0.761971\n",
       "59    0.138957   0.698868   0.162175\n",
       "30    0.878729   0.120383   0.000888\n",
       "41    0.870316   0.129117   0.000567"
      ]
     },
     "execution_count": 15,
     "metadata": {},
     "output_type": "execute_result"
    }
   ],
   "source": [
    "from sklearn.datasets import load_iris\n",
    "from sklearn.linear_model import LogisticRegression\n",
    "\n",
    "iris = load_iris()\n",
    "np.unique(iris.target)\n",
    "\n",
    "model = LogisticRegression(C=0.1).fit(iris.data, iris.target)\n",
    "outputs = model.predict_proba(iris.data)\n",
    "pd.DataFrame(outputs, columns=[f'Pr(y={i}|x)' for i in range(3)]).sample(5)"
   ]
  },
  {
   "cell_type": "code",
   "execution_count": 16,
   "id": "6e1fecb6-1314-4e11-a4d8-59ebb8d159f5",
   "metadata": {},
   "outputs": [
    {
     "data": {
      "text/plain": [
       "array([[1., 0., 0.],\n",
       "       [0., 1., 0.],\n",
       "       [0., 0., 1.]])"
      ]
     },
     "execution_count": 16,
     "metadata": {},
     "output_type": "execute_result"
    }
   ],
   "source": [
    "유형수 = 3\n",
    "원핫행렬 = np.eye(유형수)\n",
    "원핫행렬"
   ]
  },
  {
   "cell_type": "code",
   "execution_count": 17,
   "id": "1bb9be68-476c-4da3-b6df-46cc2b210efe",
   "metadata": {},
   "outputs": [
    {
     "name": "stdout",
     "output_type": "stream",
     "text": [
      "0 -> OHE -> [1. 0. 0.]\n",
      "error=[ 0.3 -0.2 -0.1]\n"
     ]
    }
   ],
   "source": [
    "outputs = np.array([0.7, 0.2, 0.1])\n",
    "label = 0\n",
    "y = 원핫행렬[label]\n",
    "print(f'{label} -> OHE -> {y}')\n",
    "오차 = y - outputs\n",
    "print(f'error={오차}')"
   ]
  },
  {
   "cell_type": "code",
   "execution_count": 18,
   "id": "a80e9cc2-1e17-47e3-98f5-cb0e8fe0c799",
   "metadata": {},
   "outputs": [
    {
     "name": "stdout",
     "output_type": "stream",
     "text": [
      "Loss=0.37\n",
      "Loss=0.07\n",
      "Loss=0.0\n"
     ]
    }
   ],
   "source": [
    "SSE = lambda y, y_pred: np.sum((y - y_pred) ** 2) * 0.5\n",
    "\n",
    "y = np.array([1, 0, 0])\n",
    "print(f'Loss={SSE(y, y_pred=np.array([0.3, 0.3, 0.4])):.2f}')\n",
    "print(f'Loss={SSE(y, y_pred=np.array([0.7, 0.2, 0.1])):.2f}')\n",
    "print(f'Loss={SSE(y, y_pred=np.array([1.0, 0.0, 0.0]))}')"
   ]
  },
  {
   "cell_type": "code",
   "execution_count": 19,
   "id": "3c87155f-879a-478f-bee3-23c0f26ccbea",
   "metadata": {},
   "outputs": [],
   "source": [
    "H = 정보엔트로피산출 = lambda p: -np.sum(p * np.log2(p))"
   ]
  },
  {
   "cell_type": "code",
   "execution_count": 20,
   "id": "8cdb9964-7520-44c6-9901-22d726be44dc",
   "metadata": {},
   "outputs": [
    {
     "name": "stdout",
     "output_type": "stream",
     "text": [
      "평균정보량: 1.0 새넌\n"
     ]
    }
   ],
   "source": [
    "print(f'평균정보량: {H(p=np.array([0.5, 0.5]))} 새넌')"
   ]
  },
  {
   "cell_type": "code",
   "execution_count": 21,
   "id": "70f85abd-0699-49f5-9518-0f0b3312d0c7",
   "metadata": {},
   "outputs": [
    {
     "name": "stdout",
     "output_type": "stream",
     "text": [
      "평균정보량: 1.75 새넌\n",
      "평균정보량: 2.0 새넌\n"
     ]
    }
   ],
   "source": [
    "print(f'평균정보량: {H(p=np.array([1/2, 1/4, 1/8, 1/8]))} 새넌')\n",
    "print(f'평균정보량: {H(p=np.array([0.25, 0.25, 0.25, 0.25]))} 새넌')"
   ]
  },
  {
   "cell_type": "code",
   "execution_count": 22,
   "id": "0bfdebf7-3fb5-424c-9a1b-32ee4dcc150d",
   "metadata": {},
   "outputs": [],
   "source": [
    "교차엔트로피오차 = lambda y, y_pred: -np.sum(y * np.log(y_pred + 1e-7))"
   ]
  },
  {
   "cell_type": "code",
   "execution_count": 23,
   "id": "d4aa2ea4-6460-49cb-8026-611191671297",
   "metadata": {},
   "outputs": [
    {
     "name": "stdout",
     "output_type": "stream",
     "text": [
      "CEE=0.916\n",
      "CEE=0.357\n",
      "CEE=-0.000\n"
     ]
    }
   ],
   "source": [
    "y = np.array([1, 0, 0])\n",
    "y1 = np.array([0.4, 0.5, 0.1])\n",
    "y2 = np.array([0.7, 0.2, 0.1])\n",
    "y3 = np.array([1.0, 0., 0.])\n",
    "\n",
    "print(f'CEE={교차엔트로피오차(y, y1):.3f}')\n",
    "print(f'CEE={교차엔트로피오차(y, y2):.3f}')\n",
    "print(f'CEE={교차엔트로피오차(y, y3):.3f}')"
   ]
  },
  {
   "cell_type": "markdown",
   "id": "8e464d7f-ba8c-4a17-911c-a41994f8f59e",
   "metadata": {},
   "source": [
    "## 최적화\n",
    "\n",
    "함수의 최소, 최대값을 찾는 과정\n",
    "\n",
    "1. 방정식\n",
    "2. 경사 하강"
   ]
  },
  {
   "cell_type": "code",
   "execution_count": 24,
   "id": "d6891a63-2e1a-4ed1-bf79-57379c2ca0ec",
   "metadata": {},
   "outputs": [
    {
     "data": {
      "image/png": "[encoded data removed]",
      "text/plain": [
       "<Figure size 300x200 with 1 Axes>"
      ]
     },
     "metadata": {},
     "output_type": "display_data"
    }
   ],
   "source": [
    "x = np.arange(-5, 5, 0.1)\n",
    "f = lambda x: x ** 2\n",
    "dfdx = lambda x: 2 * x\n",
    "\n",
    "def 수치미분(f, x):\n",
    "    h = 1e-4\n",
    "    return (f(x + h) - f(x)) / h\n",
    "\n",
    "plt.figure(figsize=(3, 2))\n",
    "plt.plot(x, f(x))\n",
    "plt.plot(x, dfdx(x), '--')\n",
    "plt.plot(x, 수치미분(f, x), 'k')\n",
    "\n",
    "# 출발점\n",
    "x0 = -4\n",
    "plt.plot(x0, f(x0), 'ro')\n",
    "\n",
    "def 경사하강(f, x0, 학습횟수, 학습률):\n",
    "    x = x0\n",
    "    x_history = [x]\n",
    "    for 학습 in range(학습횟수):\n",
    "        경사 = 수치미분(f, x)\n",
    "        x = x - 경사 * 학습률\n",
    "        x_history.append(x)\n",
    "    return x_history\n",
    "\n",
    "x_history = 경사하강(f, x0=-4, 학습횟수=10, 학습률=0.1)\n",
    "x_history = np.array(x_history)\n",
    "plt.plot(x_history, f(x_history), 'ro')\n",
    "# 최적점 (목표)\n",
    "plt.plot(0, 0, 'ro')\n",
    "plt.show()"
   ]
  },
  {
   "cell_type": "markdown",
   "id": "13852729-f2d3-4c04-bee5-cbc4c206c0c7",
   "metadata": {},
   "source": [
    "## 학습 알고리즘"
   ]
  },
  {
   "cell_type": "code",
   "execution_count": 25,
   "id": "c13fd09b-c45c-4a3b-a3f8-a6fdb6143962",
   "metadata": {
    "jupyter": {
     "source_hidden": true
    }
   },
   "outputs": [],
   "source": [
    "import numpy as np\n",
    "import time\n",
    "\n",
    "sigmoid = lambda z: 1 / (1 + np.exp(-z))\n",
    "\n",
    "def softmax(z):\n",
    "    if z.ndim == 1:\n",
    "        z = z.reshape(1, -1)\n",
    "    exp_z = np.exp(z - np.max(z, axis=1).reshape(-1, 1))\n",
    "    return exp_z / np.sum(exp_z, axis=1).reshape(-1, 1)\n",
    "\n",
    "def 경사산출(f, x):\n",
    "    h = 1e-4\n",
    "    경사 = np.empty_like(x)\n",
    "    \n",
    "    for i, xi in enumerate(x):\n",
    "        x[i] = xi + h\n",
    "        fxh1 = f(x)\n",
    "        x[i] = xi - h\n",
    "        fxh2 = f(x)\n",
    "        \n",
    "        경사[i] = (fxh1 - fxh2) / (2 * h)\n",
    "        x[i] = xi # 원래 값 복원\n",
    "\n",
    "    return 경사\n",
    "\n",
    "def 경사산출_2d(f, X):\n",
    "    경사 = np.zeros_like(X)\n",
    "    \n",
    "    for j, xj in enumerate(X):\n",
    "        경사[j] = 경사산출(f, xj)\n",
    "    return 경사\n",
    "\n",
    "def 교차엔트로피오차(y, y_pred):\n",
    "    delta = 1e-7\n",
    "    배치크기 = y.shape[0]\n",
    "    return -np.sum(y * np.log(y_pred + delta)) / 배치크기\n",
    "\n",
    "class 완전연결:\n",
    "    def __init__(self, 입력, 출력, 활성화=None):\n",
    "        self.W = np.random.randn(입력, 출력)\n",
    "        self.b = np.zeros(출력)\n",
    "        self.activation = 활성화\n",
    "        \n",
    "    def forward(self, X):\n",
    "        Z = np.dot(X, self.W) + self.b\n",
    "        if self.activation:\n",
    "            return self.activation(Z)\n",
    "        return Z\n",
    "\n",
    "class 신경망:\n",
    "    def __init__(self, 손실함수):\n",
    "        self.layers = []\n",
    "        self.loss_func = 손실함수\n",
    "        \n",
    "    def add(self, layer):\n",
    "        self.layers.append(layer)\n",
    "        \n",
    "    def __call__(self, X):\n",
    "        \"\"\"순전파 (feedforward)\"\"\"\n",
    "        output = X\n",
    "        for layer in self.layers:\n",
    "            output = layer.forward(output)\n",
    "        return output\n",
    "    \n",
    "    def 손실산출(self, X, y):\n",
    "        y_pred = self(X)\n",
    "        손실 = self.loss_func(y, y_pred)\n",
    "        return 손실\n",
    "    \n",
    "    def fit(self, X, y, 배치크기, 학습횟수, 학습률):\n",
    "        \"\"\"학습\"\"\"\n",
    "        표본수 = X.shape[0]\n",
    "        손실변화 = []\n",
    "        for i in range(학습횟수):            \n",
    "            print(f'학습 {i+1}/{학습횟수}')\n",
    "            start_time = time.time()\n",
    "            # 1. 미니배치\n",
    "            배치색인 = np.random.choice(표본수, 배치크기)\n",
    "            X_batch = X[배치색인]\n",
    "            y_batch = y[배치색인]\n",
    "            # 2. 경사 산출        \n",
    "            f = lambda 매개변수: self.손실산출(X_batch, y_batch)\n",
    "            층별경사 = []\n",
    "            for layer in self.layers:\n",
    "                dW = 경사산출_2d(f, layer.W)\n",
    "                db = 경사산출(f, layer.b)\n",
    "                층별경사.append((dW, db))\n",
    "            # 3. 매개변수 갱신 (경사 하강)\n",
    "            for layer, (dW, db) in zip(self.layers, 층별경사):\n",
    "                layer.W -= dW * 학습률\n",
    "                layer.b -= db * 학습률\n",
    "            end_time = time.time()\n",
    "            # (선택적) 손실확인\n",
    "            손실 = self.손실산출(X_batch, y_batch)\n",
    "            손실변화.append(손실)\n",
    "            print(f'\\t손실: {손실:.3f}, \\t시간: {end_time - start_time:.1f}초')\n",
    "        return 손실변화"
   ]
  },
  {
   "cell_type": "code",
   "execution_count": 28,
   "id": "4b7ae724-b833-42e9-8e54-80bb86af4812",
   "metadata": {},
   "outputs": [
    {
     "name": "stdout",
     "output_type": "stream",
     "text": [
      "학습 1/20\n",
      "\t손실: 7.448, \t시간: 7.5초\n",
      "학습 2/20\n",
      "\t손실: 8.585, \t시간: 7.5초\n",
      "학습 3/20\n",
      "\t손실: 7.797, \t시간: 7.6초\n",
      "학습 4/20\n",
      "\t손실: 5.693, \t시간: 7.5초\n",
      "학습 5/20\n",
      "\t손실: 6.030, \t시간: 7.5초\n",
      "학습 6/20\n",
      "\t손실: 7.004, \t시간: 7.5초\n",
      "학습 7/20\n",
      "\t손실: 4.990, \t시간: 7.5초\n",
      "학습 8/20\n",
      "\t손실: 4.104, \t시간: 7.7초\n",
      "학습 9/20\n",
      "\t손실: 4.405, \t시간: 7.5초\n",
      "학습 10/20\n",
      "\t손실: 2.612, \t시간: 7.6초\n",
      "학습 11/20\n",
      "\t손실: 4.792, \t시간: 7.6초\n",
      "학습 12/20\n",
      "\t손실: 7.802, \t시간: 7.6초\n",
      "학습 13/20\n",
      "\t손실: 3.256, \t시간: 7.5초\n",
      "학습 14/20\n",
      "\t손실: 4.116, \t시간: 7.5초\n",
      "학습 15/20\n",
      "\t손실: 3.849, \t시간: 7.5초\n",
      "학습 16/20\n",
      "\t손실: 6.862, \t시간: 7.5초\n",
      "학습 17/20\n",
      "\t손실: 3.600, \t시간: 7.5초\n",
      "학습 18/20\n",
      "\t손실: 6.243, \t시간: 7.4초\n",
      "학습 19/20\n",
      "\t손실: 4.337, \t시간: 7.6초\n",
      "학습 20/20\n",
      "\t손실: 3.986, \t시간: 7.6초\n"
     ]
    }
   ],
   "source": [
    "FC = 완전연결\n",
    "\n",
    "model = 신경망(교차엔트로피오차)\n",
    "model.add(FC(784, 50, sigmoid))\n",
    "model.add(FC(50, 100, sigmoid))\n",
    "model.add(FC(100, 10, softmax))\n",
    "\n",
    "X_train = 전처리(train_images)\n",
    "Y_train = np.eye(10)[train_labels]\n",
    "손실변화 = model.fit(X_train, Y_train, 배치크기=10, 학습횟수=20, 학습률=0.1)\n"
   ]
  },
  {
   "cell_type": "code",
   "execution_count": null,
   "id": "339c37b3-8337-498f-a4fd-109165752503",
   "metadata": {},
   "outputs": [],
   "source": []
  }
 ],
 "metadata": {
  "kernelspec": {
   "display_name": "pydeep",
   "language": "python",
   "name": "pydeep"
  },
  "language_info": {
   "codemirror_mode": {
    "name": "ipython",
    "version": 3
   },
   "file_extension": ".py",
   "mimetype": "text/x-python",
   "name": "python",
   "nbconvert_exporter": "python",
   "pygments_lexer": "ipython3",
   "version": "3.9.18"
  }
 },
 "nbformat": 4,
 "nbformat_minor": 5
}
