{
 "cells": [
  {
   "cell_type": "code",
   "execution_count": 1,
   "id": "1d713f15-ba0d-4238-b311-533bebe32f9c",
   "metadata": {},
   "outputs": [
    {
     "name": "stdout",
     "output_type": "stream",
     "text": [
      "셀 실행 shift + Enter\n"
     ]
    }
   ],
   "source": [
    "print('셀 실행 shift + Enter')"
   ]
  },
  {
   "cell_type": "code",
   "execution_count": 2,
   "id": "df5751a0-b18c-4d4a-8034-37f45b4557e1",
   "metadata": {},
   "outputs": [
    {
     "name": "stdout",
     "output_type": "stream",
     "text": [
      "Python 3.9.18 | packaged by conda-forge | (main, Dec 23 2023, 16:29:04) [MSC v.1929 64 bit (AMD64)]\n"
     ]
    }
   ],
   "source": [
    "import sys\n",
    "print(f'Python {sys.version}')"
   ]
  },
  {
   "cell_type": "markdown",
   "id": "54119705-ff91-47b1-b5ed-d140459f900d",
   "metadata": {},
   "source": [
    "# 필수 라이브러리"
   ]
  },
  {
   "cell_type": "code",
   "execution_count": 3,
   "id": "6f93f688-56c4-4455-86f8-98907233c4c7",
   "metadata": {},
   "outputs": [
    {
     "name": "stdout",
     "output_type": "stream",
     "text": [
      "WARNING:tensorflow:From C:\\ProgramData\\miniconda3\\envs\\pydeep\\lib\\site-packages\\keras\\src\\losses.py:2976: The name tf.losses.sparse_softmax_cross_entropy is deprecated. Please use tf.compat.v1.losses.sparse_softmax_cross_entropy instead.\n",
      "\n",
      "Tensorflow 2.15.0\n"
     ]
    }
   ],
   "source": [
    "import numpy as np\n",
    "import tensorflow as tf\n",
    "print(f'Tensorflow {tf.__version__}')"
   ]
  },
  {
   "cell_type": "code",
   "execution_count": 4,
   "id": "03c13683-8305-4a2d-9dae-fd724f50ad5c",
   "metadata": {},
   "outputs": [],
   "source": [
    "x = list(range(10))"
   ]
  },
  {
   "cell_type": "code",
   "execution_count": 5,
   "id": "688f5c0a-ccff-49d5-9ab6-596ebc931f9c",
   "metadata": {},
   "outputs": [
    {
     "data": {
      "text/plain": [
       "list"
      ]
     },
     "execution_count": 5,
     "metadata": {},
     "output_type": "execute_result"
    }
   ],
   "source": [
    "type(x)"
   ]
  },
  {
   "cell_type": "code",
   "execution_count": 6,
   "id": "ff2aa99b-18b8-4418-b572-c3aaf161a04c",
   "metadata": {},
   "outputs": [
    {
     "name": "stdout",
     "output_type": "stream",
     "text": [
      "[0, 1, 2, 3, 4, 5, 6, 7, 8, 9]\n"
     ]
    }
   ],
   "source": [
    "print(x)"
   ]
  },
  {
   "cell_type": "code",
   "execution_count": 7,
   "id": "01920c83-f92b-4c2e-b03a-986c8e36d7fb",
   "metadata": {},
   "outputs": [
    {
     "data": {
      "text/plain": [
       "10"
      ]
     },
     "execution_count": 7,
     "metadata": {},
     "output_type": "execute_result"
    }
   ],
   "source": [
    "len(x)"
   ]
  },
  {
   "cell_type": "code",
   "execution_count": 8,
   "id": "770c4169-43b0-4356-bed4-01e45310bbc4",
   "metadata": {},
   "outputs": [
    {
     "data": {
      "text/plain": [
       "[0, 1, 2, 3, 4, 5, 6, 7, 8, 9, 0, 1, 2, 3, 4, 5, 6, 7, 8, 9]"
      ]
     },
     "execution_count": 8,
     "metadata": {},
     "output_type": "execute_result"
    }
   ],
   "source": [
    "x * 2"
   ]
  },
  {
   "cell_type": "code",
   "execution_count": 9,
   "id": "2d7e5f48-414d-4c0f-878b-7dddf77751f8",
   "metadata": {},
   "outputs": [
    {
     "data": {
      "text/plain": [
       "[0, 1, 2, 3, 4, 5, 6, 7, 8, 9, 0, 1, 2, 3, 4, 5, 6, 7, 8, 9]"
      ]
     },
     "execution_count": 9,
     "metadata": {},
     "output_type": "execute_result"
    }
   ],
   "source": [
    "x + x"
   ]
  },
  {
   "cell_type": "code",
   "execution_count": 10,
   "id": "03a15011-e405-4f74-a3ee-5fcf020c5bbd",
   "metadata": {},
   "outputs": [
    {
     "data": {
      "text/plain": [
       "[0, 2, 4, 6, 8, 10, 12, 14, 16, 18]"
      ]
     },
     "execution_count": 10,
     "metadata": {},
     "output_type": "execute_result"
    }
   ],
   "source": [
    "[원소 * 2 for 원소 in x]"
   ]
  },
  {
   "cell_type": "code",
   "execution_count": 11,
   "id": "e58751a7-67ac-4783-b285-9e5293fad4bc",
   "metadata": {},
   "outputs": [],
   "source": [
    "x = np.array(range(10))"
   ]
  },
  {
   "cell_type": "code",
   "execution_count": 12,
   "id": "50951d14-3cb8-4d22-8865-3294b1251013",
   "metadata": {},
   "outputs": [
    {
     "data": {
      "text/plain": [
       "numpy.ndarray"
      ]
     },
     "execution_count": 12,
     "metadata": {},
     "output_type": "execute_result"
    }
   ],
   "source": [
    "type(x)"
   ]
  },
  {
   "cell_type": "code",
   "execution_count": 13,
   "id": "cdc3d98c-7442-4526-9b6d-4fb62b548681",
   "metadata": {},
   "outputs": [
    {
     "name": "stdout",
     "output_type": "stream",
     "text": [
      "[0 1 2 3 4 5 6 7 8 9]\n"
     ]
    }
   ],
   "source": [
    "print(x)"
   ]
  },
  {
   "cell_type": "code",
   "execution_count": 14,
   "id": "c6abb626-2434-49c6-9cae-34078cefbd81",
   "metadata": {},
   "outputs": [
    {
     "data": {
      "text/plain": [
       "10"
      ]
     },
     "execution_count": 14,
     "metadata": {},
     "output_type": "execute_result"
    }
   ],
   "source": [
    "len(x)"
   ]
  },
  {
   "cell_type": "code",
   "execution_count": 15,
   "id": "1dc1942f-73c6-4705-b277-86ac48274e61",
   "metadata": {},
   "outputs": [
    {
     "data": {
      "text/plain": [
       "array([ 0,  2,  4,  6,  8, 10, 12, 14, 16, 18])"
      ]
     },
     "execution_count": 15,
     "metadata": {},
     "output_type": "execute_result"
    }
   ],
   "source": [
    "x * 2"
   ]
  },
  {
   "cell_type": "code",
   "execution_count": 16,
   "id": "4720e0eb-610d-42a1-ac64-96cd328acc0e",
   "metadata": {},
   "outputs": [
    {
     "data": {
      "text/plain": [
       "array([0, 0, 0, 0, 0, 0, 0, 0, 0, 0])"
      ]
     },
     "execution_count": 16,
     "metadata": {},
     "output_type": "execute_result"
    }
   ],
   "source": [
    "x - x"
   ]
  },
  {
   "cell_type": "code",
   "execution_count": 17,
   "id": "9158c768-aa4f-4721-838a-bc3a2fe5018c",
   "metadata": {},
   "outputs": [],
   "source": [
    "x2 = np.array([[0, 1, 2], [3, 4, 5]])"
   ]
  },
  {
   "cell_type": "code",
   "execution_count": 18,
   "id": "f690062a-db81-483f-8eed-43762f7f7cda",
   "metadata": {},
   "outputs": [
    {
     "name": "stdout",
     "output_type": "stream",
     "text": [
      "[[0 1 2]\n",
      " [3 4 5]]\n"
     ]
    }
   ],
   "source": [
    "print(x2)"
   ]
  },
  {
   "cell_type": "code",
   "execution_count": 19,
   "id": "048fda13-96ea-48bb-89ff-a02d9cdb8d59",
   "metadata": {},
   "outputs": [
    {
     "data": {
      "text/plain": [
       "array([[ 0,  2,  4],\n",
       "       [ 6,  8, 10]])"
      ]
     },
     "execution_count": 19,
     "metadata": {},
     "output_type": "execute_result"
    }
   ],
   "source": [
    "x2 * 2"
   ]
  },
  {
   "cell_type": "code",
   "execution_count": 20,
   "id": "077fb685-cc2a-4620-8803-441a2cb9f8be",
   "metadata": {},
   "outputs": [
    {
     "data": {
      "text/plain": [
       "array([[0, 0, 0],\n",
       "       [0, 0, 0]])"
      ]
     },
     "execution_count": 20,
     "metadata": {},
     "output_type": "execute_result"
    }
   ],
   "source": [
    "x2 - x2"
   ]
  },
  {
   "cell_type": "code",
   "execution_count": 21,
   "id": "9677a831-c3c7-4ca8-b220-ff309a525bc7",
   "metadata": {},
   "outputs": [
    {
     "data": {
      "text/plain": [
       "2"
      ]
     },
     "execution_count": 21,
     "metadata": {},
     "output_type": "execute_result"
    }
   ],
   "source": [
    "len(x2)"
   ]
  },
  {
   "cell_type": "code",
   "execution_count": 22,
   "id": "1725a8a3-98a6-4003-9234-1fec031eef08",
   "metadata": {},
   "outputs": [
    {
     "data": {
      "text/plain": [
       "(2, 3)"
      ]
     },
     "execution_count": 22,
     "metadata": {},
     "output_type": "execute_result"
    }
   ],
   "source": [
    "x2.shape"
   ]
  },
  {
   "cell_type": "code",
   "execution_count": 23,
   "id": "3276c465-49b0-4691-a63d-0f2192003d2c",
   "metadata": {},
   "outputs": [
    {
     "data": {
      "text/plain": [
       "numpy.ndarray"
      ]
     },
     "execution_count": 23,
     "metadata": {},
     "output_type": "execute_result"
    }
   ],
   "source": [
    "type(x2)"
   ]
  },
  {
   "cell_type": "code",
   "execution_count": 24,
   "id": "213c8e91-125b-4514-a0d4-f245c61ce8a8",
   "metadata": {},
   "outputs": [
    {
     "data": {
      "text/plain": [
       "dtype('int32')"
      ]
     },
     "execution_count": 24,
     "metadata": {},
     "output_type": "execute_result"
    }
   ],
   "source": [
    "x2.dtype"
   ]
  },
  {
   "cell_type": "markdown",
   "id": "ec8a08e1-3882-4f58-b63f-4e823d21eab2",
   "metadata": {},
   "source": [
    "# 선형 회귀"
   ]
  },
  {
   "cell_type": "code",
   "execution_count": 25,
   "id": "d3c1b80a-0ec6-4a97-97bd-9c0d14786cf1",
   "metadata": {},
   "outputs": [],
   "source": [
    "import matplotlib.pyplot as plt"
   ]
  },
  {
   "cell_type": "code",
   "execution_count": 26,
   "id": "74db9d6c-6523-47a2-9f14-8f136838f438",
   "metadata": {},
   "outputs": [
    {
     "name": "stdout",
     "output_type": "stream",
     "text": [
      "(100,) (100,)\n",
      "[-5.        -4.8989899 -4.7979798] .. [4.7979798 4.8989899 5.       ]\n"
     ]
    },
    {
     "data": {
      "image/png": "[encoded data removed]",
      "text/plain": [
       "<Figure size 640x480 with 1 Axes>"
      ]
     },
     "metadata": {},
     "output_type": "display_data"
    }
   ],
   "source": [
    "from sklearn.linear_model import LinearRegression\n",
    "\n",
    "난수초기값 = 123\n",
    "random = np.random.RandomState(난수초기값)\n",
    "x = np.linspace(-5, 5, 100)\n",
    "noise = random.randn(len(x))\n",
    "y = x + noise\n",
    "\n",
    "Xs = x.reshape(-1, 1)\n",
    "model = LinearRegression()\n",
    "model.fit(Xs, y)\n",
    "\n",
    "print(x.shape, y.shape)\n",
    "print(f'{x[:3]} .. {x[-3:]}')\n",
    "\n",
    "plt.scatter(x, y)\n",
    "plt.plot(x, y - noise, 'r--')\n",
    "plt.plot(x, model.predict(Xs), c='black')\n",
    "plt.show()"
   ]
  },
  {
   "cell_type": "markdown",
   "id": "85184a20-3c86-4773-95f1-bebf8e0ce58e",
   "metadata": {},
   "source": [
    "# 1943 MCP 뉴런"
   ]
  },
  {
   "cell_type": "code",
   "execution_count": 27,
   "id": "e79f99b1-b1b7-4eb2-a3f0-c512fc84080f",
   "metadata": {},
   "outputs": [],
   "source": [
    "x = np.array([0.1, 0.2, 0.3])"
   ]
  },
  {
   "cell_type": "code",
   "execution_count": 28,
   "id": "4bef00a3-5f8c-48eb-b06e-216265c6cb48",
   "metadata": {},
   "outputs": [
    {
     "data": {
      "text/plain": [
       "array([-0.06167371, -0.19441398, -0.60643038])"
      ]
     },
     "execution_count": 28,
     "metadata": {},
     "output_type": "execute_result"
    }
   ],
   "source": [
    "w = np.random.randn(len(x))\n",
    "w"
   ]
  },
  {
   "cell_type": "markdown",
   "id": "8ceba9a6-9f66-494b-9a82-908929823df3",
   "metadata": {},
   "source": [
    "$ \\sum_k^n{x_kw_k} = x_1w_1 + x_2w_2 + x_3w_3 = x w $ "
   ]
  },
  {
   "cell_type": "code",
   "execution_count": 29,
   "id": "d18ed8eb-272f-490f-8036-00bee63013fa",
   "metadata": {},
   "outputs": [],
   "source": [
    "z = np.sum(x * w)\n",
    "assert z == np.dot(x, w)"
   ]
  },
  {
   "cell_type": "code",
   "execution_count": 30,
   "id": "0dc699b7-ff9b-4bae-a551-a0abe7d83df5",
   "metadata": {},
   "outputs": [
    {
     "name": "stdout",
     "output_type": "stream",
     "text": [
      "x=[0.1 0.2 0.3] -> MCP(z=-0.227) -> y=-1\n"
     ]
    }
   ],
   "source": [
    "b = 0.1\n",
    "y = 1 if z > b else -1\n",
    "\n",
    "print(f'x={x} -> MCP(z={z:.3f}) -> y={y}')"
   ]
  },
  {
   "cell_type": "code",
   "execution_count": null,
   "id": "80f0e252-4b41-49a3-afe9-db433f83c496",
   "metadata": {},
   "outputs": [],
   "source": []
  }
 ],
 "metadata": {
  "kernelspec": {
   "display_name": "pydeep",
   "language": "python",
   "name": "pydeep"
  },
  "language_info": {
   "codemirror_mode": {
    "name": "ipython",
    "version": 3
   },
   "file_extension": ".py",
   "mimetype": "text/x-python",
   "name": "python",
   "nbconvert_exporter": "python",
   "pygments_lexer": "ipython3",
   "version": "3.9.18"
  }
 },
 "nbformat": 4,
 "nbformat_minor": 5
}
